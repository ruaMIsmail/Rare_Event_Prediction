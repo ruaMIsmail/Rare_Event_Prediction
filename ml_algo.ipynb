{
 "cells": [
  {
   "cell_type": "code",
   "execution_count": 1,
   "metadata": {},
   "outputs": [],
   "source": [
    "import pandas as pd \n",
    "import numpy as np\n",
    "from sklearn.impute import KNNImputer\n",
    "from sklearn.preprocessing import MinMaxScaler, StandardScaler\n",
    "from sklearn.model_selection import train_test_split\n",
    "\n",
    "from sklearn.svm import SVC, OneClassSVM\n",
    "from sklearn.ensemble import RandomForestClassifier\n",
    "from xgboost import XGBClassifier\n",
    "from sklearn.metrics import roc_curve, auc, f1_score, precision_score, recall_score\n",
    "import matplotlib.pyplot as plt"
   ]
  },
  {
   "cell_type": "code",
   "execution_count": 2,
   "metadata": {},
   "outputs": [],
   "source": [
    "class DataProcessor:\n",
    "\n",
    "    def __init__(self, csv_file_path):\n",
    "        self.csv_file_path = csv_file_path\n",
    "        self.data = None\n",
    "        self.to_scale = []\n",
    "        self.categorical_cols = ['device_os', 'source', 'payment_type', 'employment_status']\n",
    "        self.cols_to_del = ['housing_status', 'device_fraud_count', 'bank_branch_count_8w','month', 'prev_address_months_count', 'bank_months_count', 'days_since_request', 'proposed_credit_limit']\n",
    "        self.col_with_nan = ['current_address_months_count']\n",
    "        self.X_train = None\n",
    "        self.X_val = None\n",
    "        self.y_train = None\n",
    "        self.y_val = None\n",
    "\n",
    "    def load_data(self):\n",
    "        self.data = pd.read_csv(self.csv_file_path)\n",
    "        self.data.drop(self.cols_to_del, axis=1, inplace=True)\n",
    "        self.data.loc[:, self.col_with_nan] = self.data[self.col_with_nan].replace(-1, np.nan)\n",
    "    \n",
    "    def knn_impute(self):\n",
    "        knn_imputer = KNNImputer()\n",
    "        self.data[self.col_with_nan] = knn_imputer.fit_transform(self.data[self.col_with_nan])\n",
    "        self.data[self.col_with_nan] = self.data[self.col_with_nan].astype(int)\n",
    "\n",
    "    def scale_data(self):\n",
    "        scl = MinMaxScaler()\n",
    "        self.to_scale = [col for col in self.to_scale if col not in ['device_os', 'source', 'payment_type', 'fraud_bool', 'employment_status']]\n",
    "        for col in self.to_scale:\n",
    "            self.data[col] = scl.fit_transform(self.data[col].values.reshape(-1, 1))\n",
    "\n",
    "    def  one_hot_encode(self):\n",
    "        self.data = pd.get_dummies(self.data, columns=self.categorical_cols, prefix=self.categorical_cols)\n",
    "    \n",
    "    def split_data(self):\n",
    "        X = self.data.drop('fraud_bool', axis=1)\n",
    "        y = self.data['fraud_bool'].copy()\n",
    "\n",
    "        X_train, X_rest, y_train, y_rest = train_test_split(X, y, test_size=0.2, random_state=42)\n",
    "        X_val, X_test, y_val, y_test = train_test_split(X_rest, y_rest, test_size=0.2, random_state=42)\n",
    "\n",
    "        self.X_train = X_train\n",
    "        self.X_val = X_val\n",
    "        self.y_train = y_train\n",
    "        self.y_val = y_val\n",
    "        self.X_test = X_test\n",
    "        self.y_test = y_test"
   ]
  },
  {
   "cell_type": "code",
   "execution_count": 3,
   "metadata": {},
   "outputs": [],
   "source": [
    "data_processor = DataProcessor('Base.csv')\n",
    "# Perform the steps\n",
    "data_processor.load_data()\n",
    "data_processor.knn_impute()\n",
    "data_processor.scale_data()\n",
    "data_processor.one_hot_encode()\n",
    "\n",
    "data_processor.split_data()\n",
    "\n",
    "# Access the processed data and splits\n",
    "X_train = data_processor.X_train\n",
    "X_val = data_processor.X_val\n",
    "y_train = data_processor.y_train\n",
    "y_val = data_processor.y_val\n",
    "X_test = data_processor.X_test\n",
    "y_test = data_processor.y_train"
   ]
  },
  {
   "cell_type": "code",
   "execution_count": 4,
   "metadata": {},
   "outputs": [],
   "source": [
    "# Train Support Vector Classifier (SVC)\n",
    "\n",
    "class_weight = {0:1, 1:10}\n",
    "svc_clf = SVC(class_weight=class_weight)\n",
    "svc_clf.fit(X_train, y_train)"
   ]
  },
  {
   "cell_type": "code",
   "execution_count": null,
   "metadata": {},
   "outputs": [],
   "source": [
    "# Train One-Class SVM\n",
    "oneclass_svm_clf = OneClassSVM(kernel='RBF')\n",
    "oneclass_svm_clf.fit(X_train)"
   ]
  },
  {
   "cell_type": "code",
   "execution_count": null,
   "metadata": {},
   "outputs": [],
   "source": [
    "# Train Random Forest Classifier\n",
    "class_weight = {0:1, 1:10}\n",
    "rf_clf = RandomForestClassifier(n_estimators=100, class_weight=class_weight, random_state=42)\n",
    "rf_clf.fit(X_train, y_train)"
   ]
  },
  {
   "cell_type": "code",
   "execution_count": null,
   "metadata": {},
   "outputs": [],
   "source": [
    "# Train XGBoost Classifier\n",
    "xgb_clf = XGBClassifier(scale_pos_weight=np.sum(y_train == 0) / np.sum(y_train == 1))\n",
    "xgb_clf.fit(X_train, y_train)"
   ]
  },
  {
   "cell_type": "code",
   "execution_count": null,
   "metadata": {},
   "outputs": [],
   "source": [
    "# Predict probabilities for each model\n",
    "svc_probs = svc_clf.predict_proba(X_test)[:, 1]\n",
    "oneclass_svm_probs = oneclass_svm_clf.decision_function(X_test)\n",
    "rf_probs = rf_clf.predict_proba(X_test)[:, 1]\n",
    "xgb_probs = xgb_clf.predict_proba(X_test)[:, 1]"
   ]
  },
  {
   "cell_type": "code",
   "execution_count": null,
   "metadata": {},
   "outputs": [],
   "source": [
    "# Calculate ROC curves and AUC\n",
    "fpr_svc, tpr_svc, _ = roc_curve(y_test, svc_probs)\n",
    "roc_auc_svc = auc(fpr_svc, tpr_svc)\n",
    "\n",
    "fpr_oneclass_svm, tpr_oneclass_svm, _ = roc_curve(y_test, oneclass_svm_probs)\n",
    "roc_auc_oneclass_svm = auc(fpr_oneclass_svm, tpr_oneclass_svm)\n",
    "\n",
    "fpr_rf, tpr_rf, _ = roc_curve(y_test, rf_probs)\n",
    "roc_auc_rf = auc(fpr_rf, tpr_rf)\n",
    "\n",
    "fpr_xgb, tpr_xgb, _ = roc_curve(y_test, xgb_probs)\n",
    "roc_auc_xgb = auc(fpr_xgb, tpr_xgb)"
   ]
  },
  {
   "cell_type": "code",
   "execution_count": null,
   "metadata": {},
   "outputs": [],
   "source": [
    "# Calculate F1-score, precision, and recall\n",
    "f1_svc = f1_score(y_test, svc_clf.predict(X_test))\n",
    "precision_svc = precision_score(y_test, svc_clf.predict(X_test))\n",
    "recall_svc = recall_score(y_test, svc_clf.predict(X_test))\n",
    "\n",
    "f1_oneclass_svm = f1_score(y_test, oneclass_svm_clf.predict(X_test))\n",
    "precision_oneclass_svm = precision_score(y_test, oneclass_svm_clf.predict(X_test))\n",
    "recall_oneclass_svm = recall_score(y_test, oneclass_svm_clf.predict(X_test))\n",
    "\n",
    "f1_rf = f1_score(y_test, rf_clf.predict(X_test))\n",
    "precision_rf = precision_score(y_test, rf_clf.predict(X_test))\n",
    "recall_rf = recall_score(y_test, rf_clf.predict(X_test))\n",
    "\n",
    "f1_xgb = f1_score(y_test, xgb_clf.predict(X_test))\n",
    "precision_xgb = precision_score(y_test, xgb_clf.predict(X_test))\n",
    "recall_xgb = recall_score(y_test, xgb_clf.predict(X_test))"
   ]
  },
  {
   "cell_type": "code",
   "execution_count": null,
   "metadata": {},
   "outputs": [],
   "source": [
    "# Plot ROC curves\n",
    "plt.figure()\n",
    "plt.plot(fpr_svc, tpr_svc, label='SVC (AUC = %0.2f)' % roc_auc_svc)\n",
    "plt.plot(fpr_oneclass_svm, tpr_oneclass_svm, label='One-Class SVM (AUC = %0.2f)' % roc_auc_oneclass_svm)\n",
    "plt.plot(fpr_rf, tpr_rf, label='Random Forest (AUC = %0.2f)' % roc_auc_rf)\n",
    "plt.plot(fpr_xgb, tpr_xgb, label='XGBoost (AUC = %0.2f)' % roc_auc_xgb)\n",
    "plt.plot([0, 1], [0, 1], 'k--')\n",
    "plt.xlim([0.0, 1.0])\n",
    "plt.ylim([0.0, 1.05])\n",
    "plt.xlabel('False Positive Rate')\n",
    "plt.ylabel('True Positive Rate')\n",
    "plt.title('Receiver Operating Characteristic')\n",
    "plt.legend(loc=\"lower right\")\n",
    "plt.show()"
   ]
  },
  {
   "cell_type": "code",
   "execution_count": null,
   "metadata": {},
   "outputs": [],
   "source": [
    "# Print F1-score, precision, and recall\n",
    "print(\"SVC:\")\n",
    "print(\"F1-score:\", f1_svc)\n",
    "print(\"Precision:\", precision_svc)\n",
    "print(\"Recall:\", recall_svc)\n",
    "\n",
    "print(\"One-Class SVM:\")\n",
    "print(\"F1-score:\", f1_oneclass_svm)\n",
    "print(\"Precision:\", precision_oneclass_svm)\n",
    "print(\"Recall:\", recall_oneclass_svm)\n",
    "\n",
    "print(\"Random Forest:\")\n",
    "print(\"F1-score:\", f1_rf)\n",
    "print(\"Precision:\", precision_rf)\n",
    "print(\"Recall:\", recall_rf)\n",
    "\n",
    "print(\"XGBoost:\")\n",
    "print(\"F1-score:\", f1_xgb)\n",
    "print(\"Precision:\", precision_xgb)\n",
    "print(\"Recall:\", recall_xgb)"
   ]
  }
 ],
 "metadata": {
  "kernelspec": {
   "display_name": "vae",
   "language": "python",
   "name": "python3"
  },
  "language_info": {
   "codemirror_mode": {
    "name": "ipython",
    "version": 3
   },
   "file_extension": ".py",
   "mimetype": "text/x-python",
   "name": "python",
   "nbconvert_exporter": "python",
   "pygments_lexer": "ipython3",
   "version": "3.8.17"
  },
  "orig_nbformat": 4
 },
 "nbformat": 4,
 "nbformat_minor": 2
}
